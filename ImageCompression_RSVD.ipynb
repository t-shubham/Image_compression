{
 "cells": [
  {
   "cell_type": "markdown",
   "metadata": {},
   "source": [
    "#                   Image Compression Using Singular Value Decomposition"
   ]
  },
  {
   "cell_type": "markdown",
   "metadata": {},
   "source": [
    "(a) SVD using sci-kit learn library."
   ]
  },
  {
   "cell_type": "code",
   "execution_count": 1,
   "metadata": {},
   "outputs": [],
   "source": [
    "\n",
    "from sklearn.decomposition import TruncatedSVD\n",
    "from sklearn.metrics import mean_squared_error\n",
    "\n",
    "def compression_ratio(image,no_of_singularvalues):\n",
    "    \n",
    "    '''This function return compression ratio based on the formula \n",
    "       comprssion ratio = m*n/(k(1+m+n)) whre k is no .of dingular values\n",
    "       and m is size of image(data)'''\n",
    "    \n",
    "    \n",
    "    no_of_channels = image.shape[2]\n",
    "    Original_memory = np.prod(image.shape)\n",
    "    print(\"original memory:\",Original_memory)\n",
    "    m,n,c = image.shape\n",
    "    Compressed_memory = ((1 + int(m)+ int(n))*no_of_singularvalues ) * no_of_channels\n",
    "    print('Compressed_memory:',Compressed_memory)\n",
    "    \n",
    "    print(f'The compressed memory is roughly \\\n",
    "    {100 * Compressed_memory / Original_memory:0.0f}% of the original')\n",
    "    \n",
    "    return Original_memory/Compressed_memory\n",
    "\n",
    "def MSE_nd_PSNR(image,compressed1,max_value=255):\n",
    "    \n",
    "    '''This function return the Mean square error and Peak signal to noise ratio'''\n",
    "    \n",
    "    #Vectorised equation for MSE calculation\n",
    "    mean_square_error = np.square(np.subtract(image,compressed1)).mean()\n",
    "\n",
    "    #err = np.sum((image.astype(\"float\")-compressed1.astype(\"float\"))**2)\n",
    "    #mean_square_error = err/float(image.size)\n",
    "    #image.max(axis=(0,1))\n",
    "    #print(max_value)\n",
    "    if(mean_square_error==0):\n",
    "        PSNR = 100\n",
    "    else:\n",
    "        PSNR = 20*np.log10(max_value/(np.sqrt(mean_square_error)))\n",
    "   \n",
    "    return mean_square_error,PSNR\n",
    "                                       \n",
    "def compress_sklearn(imageIn, no_of_singularvalues=100):\n",
    "    \n",
    "    '''This function return compressed receives input image and no. of singular values \n",
    "       and returns compressed image accordingly.'''\n",
    "    \n",
    "    image = imageIn\n",
    "    \n",
    "    if len(image.shape) != 3: \n",
    "        raise('This function is for BGR images only!!')\n",
    "\n",
    "        \n",
    "    if image.shape[2] == 3:\n",
    "        image_type = 'BGR'\n",
    "        print('Found BGR image')\n",
    "    \n",
    "    no_of_channels = image.shape[2]\n",
    "    compressed_channels_list = []\n",
    "    \n",
    "    for channel in range(no_of_channels):\n",
    "        #print('channel',channel)\n",
    "        #print(image[:,:,channel])\n",
    "        image_channel = image[:,:,channel]  # ie r, g or b\n",
    "        \n",
    "        xyz = TruncatedSVD(n_components=no_of_singularvalues)\n",
    "        xyz.fit(image_channel)\n",
    "        xyz.transform(image_channel)\n",
    "        compressed_channel = xyz.inverse_transform(xyz.transform(image_channel))\n",
    "        \n",
    "        #compressed_channel = xyz.inverse_transform(xyz.fit_transform(image_channel))\n",
    "        #print('compressed_channel')\n",
    "        #print(compressed_channel)\n",
    "        compressed_channels_list.append(compressed_channel)\n",
    "    #print('compressed_channels_list')\n",
    "    #print(compressed_channels_list)\n",
    "        \n",
    "        \n",
    "    compressed = np.stack(compressed_channels_list, axis=2)\n",
    "    print('compressed')\n",
    "    #print(compressed)\n",
    "    if image_type =='BGR':\n",
    "      # clip to expected range\n",
    "      compressed = np.clip(compressed, a_min=0, a_max=255)\n",
    "      \n",
    "      # cast to same dtype as original image\n",
    "    compressed = np.array(compressed, dtype = image.dtype)\n",
    "    print(compressed.shape)\n",
    "    # reshape to original image size\n",
    "    #compressed = compressed.reshape(imageIn.shape)\n",
    "\n",
    "    SHAPE = compressed.shape\n",
    "    print('shape:', SHAPE)\n",
    "    \n",
    "    comp_ratio = compression_ratio(image,no_of_singularvalues)  \n",
    "    print('Compression ratio is:',comp_ratio)\n",
    "\n",
    "    Mean_square_error,PSNR = MSE_nd_PSNR(image,compressed)\n",
    "    print('Mean square Error : ',Mean_square_error)\n",
    "    print('Peak signal to noise ratio :{} decibals'.format(PSNR))\n",
    "                                      \n",
    "    return compressed"
   ]
  },
  {
   "cell_type": "code",
   "execution_count": 2,
   "metadata": {},
   "outputs": [],
   "source": [
    "import cv2\n",
    "import matplotlib.pyplot as plt   \n",
    "import numpy as np\n",
    "\n",
    "\n",
    "img1= plt.imread('C:\\\\Users\\mayan\\Downloads\\Rose.jpg')    #Importing the image\n",
    "img2= plt.imread('C:\\\\Users\\mayan\\Downloads\\lena.tif')    #Importing the image\n",
    "\n",
    "\n",
    "image_dict = {'rose':img1, 'lena': img2}           #Creating image dictionary"
   ]
  },
  {
   "cell_type": "code",
   "execution_count": 3,
   "metadata": {},
   "outputs": [
    {
     "data": {
      "application/vnd.jupyter.widget-view+json": {
       "model_id": "e5981a4db4f1424ea330cfc55a448830",
       "version_major": 2,
       "version_minor": 0
      },
      "text/plain": [
       "interactive(children=(Dropdown(description='name', options=('rose', 'lena'), value='rose'), Dropdown(descripti…"
      ]
     },
     "metadata": {},
     "output_type": "display_data"
    }
   ],
   "source": [
    "from ipywidgets import interact\n",
    "import ipywidgets as widgets\n",
    "\n",
    "@interact(name=image_dict.keys(), \n",
    "          no_of_singularvalues=[1,2,5,10,20,50,100,200,400,470])\n",
    "\n",
    "def plot_compressed(name,no_of_singularvalues=5):\n",
    "    image = image_dict[name]\n",
    "    print(name)\n",
    "    compressed_image = compress_sklearn(image, no_of_singularvalues=no_of_singularvalues)\n",
    "    \n",
    "    fig, axis = plt.subplots(1,2 , figsize=(15, 8))\n",
    "\n",
    "    axis[0].imshow(image)\n",
    "    axis[0].set_title('Original Image')\n",
    "\n",
    "    axis[1].imshow(compressed_image)\n",
    "    axis[1].set_title('Compressed Image')\n",
    "    return None"
   ]
  },
  {
   "cell_type": "markdown",
   "metadata": {},
   "source": [
    "(b) SVD using numpy linear algebra library."
   ]
  },
  {
   "cell_type": "code",
   "execution_count": 4,
   "metadata": {},
   "outputs": [],
   "source": [
    "def SVDcompress(image,r):\n",
    "    ''' This funtion uses only linear algebra library to implement\n",
    "         SVD and image compression'''\n",
    "    \n",
    "    if len(image.shape) != 3: \n",
    "        raise('This function is for BGR images only!!')\n",
    "\n",
    "        \n",
    "    if image.shape[2] == 3:\n",
    "        image_type = 'BGR'\n",
    "        print('Found BGR image')\n",
    "\n",
    "       \n",
    "    no_of_channels = image.shape[2]\n",
    "    compressed_channels_list = []\n",
    "    \n",
    "    for channel in range(no_of_channels):\n",
    "        #print('channel',channel)\n",
    "        #print(image[:,:,channel])\n",
    "        image_channel = image[:,:,channel]\n",
    "        \n",
    "        # Svd of all channels\n",
    "        U, S, VT = np.linalg.svd(image_channel,full_matrices=False)  #Compressed Data\n",
    "        S = np.diag(S)\n",
    "        # Reconstruction\n",
    "        compressed_channel = U[:,:r] @ S[:r,:r] @ VT[:r,:]\n",
    "        #print(compressed_channel)\n",
    "        compressed_channels_list.append(compressed_channel)\n",
    "        #print('compressed_channels_list')\n",
    "        #print(compressed_channels_list)\n",
    "        \n",
    "        \n",
    "    compressed_image = np.stack(compressed_channels_list, axis=2)\n",
    "    #print('compressed')\n",
    "    #print(compressed)\n",
    "    if image_type =='BGR':\n",
    "      # clip to expected range  \n",
    "        compressed_image = np.clip(compressed_image, a_min=0, a_max=255)\n",
    "        compressed_image = compressed_image.astype('int')\n",
    "        \n",
    "    SHAPE = compressed_image.shape\n",
    "    print('shape:', SHAPE)\n",
    "    \n",
    "    comp_ratio1 = compression_ratio(image,r)\n",
    "    print('Compression ratio is:',comp_ratio1)\n",
    "\n",
    "    Mean_square_error,PSNR = MSE_nd_PSNR(image,compressed_image)\n",
    "    print('Mean square Error : ',Mean_square_error)\n",
    "    print('Peak signal to noise ratio :{} decibals'.format(PSNR))\n",
    "    \n",
    "    return compressed_image"
   ]
  },
  {
   "cell_type": "code",
   "execution_count": 5,
   "metadata": {},
   "outputs": [
    {
     "data": {
      "application/vnd.jupyter.widget-view+json": {
       "model_id": "f0e3832c494741379b5c1b8a5db839b8",
       "version_major": 2,
       "version_minor": 0
      },
      "text/plain": [
       "interactive(children=(Dropdown(description='name', options=('rose', 'lena'), value='rose'), Dropdown(descripti…"
      ]
     },
     "metadata": {},
     "output_type": "display_data"
    }
   ],
   "source": [
    "@interact(name=image_dict.keys(), \n",
    "          no_of_singularvalues=[1,2,5,10,20,50,100,200,400])\n",
    "\n",
    "def plot_compressed(name,no_of_singularvalues=5):\n",
    "    image = image_dict[name]\n",
    "    print(name)\n",
    "    compressed_image = SVDcompress(image, r=no_of_singularvalues)\n",
    "    \n",
    "    \n",
    "    fig, axis = plt.subplots(1,2 , figsize=(20, 8))\n",
    "\n",
    "    axis[0].imshow(image)\n",
    "    axis[0].set_title('Original Image')\n",
    "\n",
    "    axis[1].imshow(compressed_image)\n",
    "    axis[1].set_title('Compressed Image')\n",
    "    \n",
    "    return None"
   ]
  },
  {
   "cell_type": "markdown",
   "metadata": {},
   "source": [
    "(c) Image compression using SVD from Scratch."
   ]
  },
  {
   "cell_type": "code",
   "execution_count": 6,
   "metadata": {},
   "outputs": [],
   "source": [
    "import numpy as np\n",
    "from numpy.linalg import norm\n",
    "\n",
    "from random import normalvariate\n",
    "from math import sqrt\n",
    "\n",
    "\n",
    "def randomUnitVector(n):\n",
    "    unnormalized = [normalvariate(0, 1) for _ in range(n)]\n",
    "    theNorm = sqrt(sum(x * x for x in unnormalized))\n",
    "    return [x / theNorm for x in unnormalized]\n",
    "\n",
    "\n",
    "def svd_1d(A, epsilon=1e-10):\n",
    "    ''' The one-dimensional SVD '''\n",
    "\n",
    "    n, m = A.shape\n",
    "    x = randomUnitVector(min(n,m))\n",
    "    lastV = None\n",
    "    currentV = x\n",
    "\n",
    "    if n > m:\n",
    "        B = np.dot(A.T, A)\n",
    "    else:\n",
    "        B = np.dot(A, A.T)\n",
    "\n",
    "    iterations = 0\n",
    "    while True:\n",
    "        iterations += 1\n",
    "        lastV = currentV\n",
    "        currentV = np.dot(B, lastV)\n",
    "        currentV = currentV / norm(currentV)\n",
    "\n",
    "        if abs(np.dot(currentV, lastV)) > 1 - epsilon:\n",
    "            #print(\"converged in {} iterations!\".format(iterations))\n",
    "            return currentV"
   ]
  },
  {
   "cell_type": "code",
   "execution_count": 7,
   "metadata": {},
   "outputs": [],
   "source": [
    "def svd(A, k=None, epsilon=1e-10):\n",
    "    \n",
    "    A = np.array(A, dtype=float)\n",
    "    n, m = A.shape\n",
    "    svdSoFar = []\n",
    "    if k is None:\n",
    "        k = min(n, m)\n",
    "\n",
    "    for i in range(k):\n",
    "        matrixFor1D = A.copy()\n",
    "\n",
    "        for singularValue, u, v in svdSoFar[:i]:\n",
    "            matrixFor1D -= singularValue * np.outer(u, v)\n",
    "\n",
    "        if n > m:\n",
    "            v = svd_1d(matrixFor1D, epsilon=epsilon)  # next singular vector\n",
    "            u_unnormalized = np.dot(A, v)\n",
    "            sigma = norm(u_unnormalized)  # next singular value\n",
    "            u = u_unnormalized / sigma\n",
    "        else:\n",
    "            u = svd_1d(matrixFor1D, epsilon=epsilon)  # next singular vector\n",
    "            v_unnormalized = np.dot(A.T, u)\n",
    "            sigma = norm(v_unnormalized)  # next singular value\n",
    "            v = v_unnormalized / sigma\n",
    "\n",
    "        svdSoFar.append((sigma, u, v))\n",
    "\n",
    "    singularValues, us, vs = [np.array(x) for x in zip(*svdSoFar)]\n",
    "    return us.T,singularValues, vs"
   ]
  },
  {
   "cell_type": "code",
   "execution_count": 8,
   "metadata": {},
   "outputs": [],
   "source": [
    "def SVD_scratch(image,r):\n",
    "    \n",
    "    # taking one channel at a time.\n",
    "    if len(image.shape) != 3: \n",
    "        raise('This function is for BGR images only!!')\n",
    "\n",
    "        \n",
    "    if image.shape[2] == 3:\n",
    "        image_type = 'BGR'\n",
    "        print('Found BGR image')\n",
    "\n",
    "       \n",
    "    no_of_channels = image.shape[2]\n",
    "    compressed_channels_list = []\n",
    "    \n",
    "    for channel in range(no_of_channels):\n",
    "        #print('channel',channel)\n",
    "        #print(image[:,:,channel])\n",
    "        image_channel = image[:,:,channel]\n",
    "        # Svd of all channels\n",
    "        U, S, VT = svd(image_channel,r)\n",
    "        S = np.diag(S)\n",
    "        compressed_channel = U[:,:(r+1)] @ S[:(r+1),:(r+1)] @ VT[:(r+1),:]\n",
    "        #print(compressed_channel)\n",
    "         \n",
    "        compressed_channels_list.append(compressed_channel)\n",
    "        #print('compressed_channels_list')\n",
    "        #print(compressed_channels_list)\n",
    "        \n",
    "        \n",
    "    compressed_image = np.stack(compressed_channels_list, axis=2)\n",
    "    #print('compressed')\n",
    "    #print(compressed)\n",
    "    if image_type =='BGR':\n",
    "      # clip to expected range  \n",
    "        compressed_image = np.clip(compressed_image, a_min=0, a_max=255)\n",
    "        compressed_image = compressed_image.astype('int')\n",
    "    \n",
    "    SHAPE = compressed_image.shape\n",
    "    print('shape:', SHAPE)\n",
    "    \n",
    "    comp_ratio1 = compression_ratio(image,r)\n",
    "    print('Compression ratio is:',comp_ratio1)\n",
    "\n",
    "    Mean_square_error,PSNR = MSE_nd_PSNR(image,compressed_image)\n",
    "    print('Mean square Error : ',Mean_square_error)\n",
    "    print('Peak signal to noise ratio :{} decibals'.format(PSNR))\n",
    "    \n",
    "    return compressed_image"
   ]
  },
  {
   "cell_type": "code",
   "execution_count": 9,
   "metadata": {},
   "outputs": [
    {
     "data": {
      "application/vnd.jupyter.widget-view+json": {
       "model_id": "a892cbde791e444db1c1b4616fc6d7a3",
       "version_major": 2,
       "version_minor": 0
      },
      "text/plain": [
       "interactive(children=(Dropdown(description='name', options=('rose', 'lena'), value='rose'), Dropdown(descripti…"
      ]
     },
     "metadata": {},
     "output_type": "display_data"
    }
   ],
   "source": [
    "import time\n",
    "@interact(name=image_dict.keys(), \n",
    "          no_of_singularvalues=[1,2,5,10,20,50,100,200,400])\n",
    "\n",
    "def plot_compressed(name,no_of_singularvalues=5):\n",
    "    image = image_dict[name]\n",
    "    print(name)\n",
    "    t1 = time.time()\n",
    "    compressed_image = SVD_scratch(image, r=no_of_singularvalues)\n",
    "    t2 = time.time()-t1\n",
    "    print(\"Time taken to return compressed image using SVD:\", t2)\n",
    "    fig, axis = plt.subplots(1,2 , figsize=(8, 8))\n",
    "\n",
    "    axis[0].imshow(image)\n",
    "    axis[0].set_title('Original Image')\n",
    "\n",
    "    axis[1].imshow(compressed_image)\n",
    "    axis[1].set_title('Compressed Image')\n",
    "    \n",
    "    return None"
   ]
  },
  {
   "cell_type": "markdown",
   "metadata": {},
   "source": [
    "(d)Image copression using Randomised SVD (implemented using numpy linear algebra library)"
   ]
  },
  {
   "cell_type": "code",
   "execution_count": 10,
   "metadata": {},
   "outputs": [],
   "source": [
    "def rSVD(X,r,q,p):\n",
    "    # Step 1: Sample column space of X with P matrix\n",
    "    ny = X.shape[1]\n",
    "    P = np.random.randn(ny,r+p)\n",
    "    Z = X @ P\n",
    "    for k in range(q):\n",
    "        Z = X @ (X.T @ Z)\n",
    "\n",
    "    Q, R = np.linalg.qr(Z,mode='reduced')\n",
    "\n",
    "    # Step 2: Compute SVD on projected Y = Q.T @ X\n",
    "    Y = Q.T @ X\n",
    "    UY, S, VT = np.linalg.svd(Y,full_matrices=0)\n",
    "    U = Q @ UY\n",
    "\n",
    "    return U, S, VT"
   ]
  },
  {
   "cell_type": "code",
   "execution_count": 11,
   "metadata": {},
   "outputs": [],
   "source": [
    "def rSVDcompress(image,r,q,p):\n",
    "    # taking one channel at a time.\n",
    "    if len(image.shape) != 3: \n",
    "        raise('This function is for BGR images only!!')\n",
    "\n",
    "        \n",
    "    if image.shape[2] == 3:\n",
    "        image_type = 'BGR'\n",
    "        print('Found BGR image')\n",
    "\n",
    "       \n",
    "    no_of_channels = image.shape[2]\n",
    "    compressed_channels_list = []\n",
    "    \n",
    "    for channel in range(no_of_channels):\n",
    "        #print('channel',channel)\n",
    "        #print(image[:,:,channel])\n",
    "        image_channel = image[:,:,channel]\n",
    "        # Svd of all channels\n",
    "        U, S, VT = rSVD(image_channel,r,q,p) \n",
    "        S = np.diag(S)\n",
    "        compressed_channel = U[:,:r] @ S[:r,:r] @ VT[:r,:]\n",
    "        #print(compressed_channel)\n",
    "        compressed_channels_list.append(compressed_channel)\n",
    "        #print('compressed_channels_list')\n",
    "        #print(compressed_channels_list)\n",
    "        \n",
    "        \n",
    "    compressed_image = np.stack(compressed_channels_list, axis=2)\n",
    "    #print('compressed')\n",
    "    #print(compressed)\n",
    "    if image_type =='BGR':\n",
    "      # clip to expected range  \n",
    "        compressed_image = np.clip(compressed_image, a_min=0, a_max=255)\n",
    "        compressed_image = compressed_image.astype('int')\n",
    "    \n",
    "    SHAPE = compressed_image.shape\n",
    "    print('shape:', SHAPE)\n",
    "    \n",
    "    comp_ratio1 = compression_ratio(image,r)\n",
    "    print('Compression ratio is:',comp_ratio1)\n",
    "\n",
    "    Mean_square_error1,PSNR1 = MSE_nd_PSNR(image,compressed_image)\n",
    "    print('Mean square Error : ',Mean_square_error1)\n",
    "    print('Peak signal to noise ratio :{} decibals'.format(PSNR1))\n",
    "    \n",
    "    return compressed_image"
   ]
  },
  {
   "cell_type": "code",
   "execution_count": 12,
   "metadata": {},
   "outputs": [
    {
     "data": {
      "application/vnd.jupyter.widget-view+json": {
       "model_id": "f2ff5d4cd3104293b825ad3181730b2c",
       "version_major": 2,
       "version_minor": 0
      },
      "text/plain": [
       "interactive(children=(Dropdown(description='name', options=('rose', 'lena'), value='rose'), Dropdown(descripti…"
      ]
     },
     "metadata": {},
     "output_type": "display_data"
    }
   ],
   "source": [
    "\n",
    "@interact(name=image_dict.keys(), \n",
    "          no_of_singularvalues=[1,2,5,10,20,50,100,200,400],p=[10,5],q=[1,2,3])\n",
    "\n",
    "def plot_compressed(name,no_of_singularvalues=5,p=5,q=1):\n",
    "    image = image_dict[name]\n",
    "    print(name)\n",
    "    \n",
    "    # q=  Power iterations\n",
    "    # p = Oversampling parameter\n",
    "    compressed_image = rSVDcompress(image, r=no_of_singularvalues,p=p,q=q)\n",
    "    \n",
    "    \n",
    "    fig, axis = plt.subplots(1,2 , figsize=(20, 8))\n",
    "\n",
    "    axis[0].imshow(image)\n",
    "    axis[0].set_title('Original Image')\n",
    "\n",
    "    axis[1].imshow(compressed_image)\n",
    "    axis[1].set_title('Compressed Image')\n",
    "    \n",
    "    return None"
   ]
  },
  {
   "cell_type": "markdown",
   "metadata": {},
   "source": [
    "(e) Image compression using Randomised SVD (implemented from scratch)"
   ]
  },
  {
   "cell_type": "code",
   "execution_count": 13,
   "metadata": {},
   "outputs": [],
   "source": [
    "def rSVD(X,r,q,p):\n",
    "    # Step 1: Sample column space of X with P matrix\n",
    "    ny = X.shape[1]\n",
    "    P = np.random.randn(ny,r+p)\n",
    "    Z = X @ P\n",
    "    for k in range(q):\n",
    "        Z = X @ (X.T @ Z)\n",
    "\n",
    "    Q, R = np.linalg.qr(Z,mode='reduced')\n",
    "\n",
    "    # Step 2: Compute SVD on projected Y = Q.T @ X\n",
    "    Y = Q.T @ X\n",
    "    UY, S, VT = svd(Y,r)\n",
    "    U = Q @ UY\n",
    "\n",
    "    return U, S, VT"
   ]
  },
  {
   "cell_type": "code",
   "execution_count": 14,
   "metadata": {},
   "outputs": [],
   "source": [
    "def rSVD_scratch(image,r,q,p):\n",
    "    # taking one channel at a time.\n",
    "    if len(image.shape) != 3: \n",
    "        raise('This function is for BGR images only!!')\n",
    "\n",
    "        \n",
    "    if image.shape[2] == 3:\n",
    "        image_type = 'BGR'\n",
    "        print('Found BGR image')\n",
    "\n",
    "       \n",
    "    no_of_channels = image.shape[2]\n",
    "    compressed_channels_list = []\n",
    "    \n",
    "    for channel in range(no_of_channels):\n",
    "        #print('channel',channel)\n",
    "        #print(image[:,:,channel])\n",
    "        image_channel = image[:,:,channel]\n",
    "        # Svd of all channels\n",
    "        U, S, VT = rSVD(image_channel,r,q,p) \n",
    "        S = np.diag(S)\n",
    "        compressed_channel = U[:,:r] @ S[:r,:r] @ VT[:r,:]\n",
    "        #print(compressed_channel)\n",
    "        compressed_channels_list.append(compressed_channel)\n",
    "        #print('compressed_channels_list')\n",
    "        #print(compressed_channels_list)\n",
    "        \n",
    "        \n",
    "    compressed_image = np.stack(compressed_channels_list, axis=2)\n",
    "    #print('compressed')\n",
    "    #print(compressed)\n",
    "    if image_type =='BGR':\n",
    "      # clip to expected range  \n",
    "        compressed_image = np.clip(compressed_image, a_min=0, a_max=255)\n",
    "        compressed_image = compressed_image.astype('int')\n",
    "    \n",
    "    SHAPE = compressed_image.shape\n",
    "    print('shape:', SHAPE)\n",
    "    \n",
    "    comp_ratio1 = compression_ratio(image,r)\n",
    "    print('Compression ratio is:',comp_ratio1)\n",
    "\n",
    "    Mean_square_error1,PSNR1 = MSE_nd_PSNR(image,compressed_image)\n",
    "    print('Mean square Error : ',Mean_square_error1)\n",
    "    print('Peak signal to noise ratio :{} decibals'.format(PSNR1))\n",
    "    \n",
    "    return compressed_image"
   ]
  },
  {
   "cell_type": "code",
   "execution_count": 15,
   "metadata": {},
   "outputs": [
    {
     "data": {
      "application/vnd.jupyter.widget-view+json": {
       "model_id": "f155a8992096444895b80f9113421ea6",
       "version_major": 2,
       "version_minor": 0
      },
      "text/plain": [
       "interactive(children=(Dropdown(description='name', options=('rose', 'lena'), value='rose'), Dropdown(descripti…"
      ]
     },
     "metadata": {},
     "output_type": "display_data"
    }
   ],
   "source": [
    "import time\n",
    "@interact(name=image_dict.keys(), \n",
    "          no_of_singularvalues=[1,2,5,10,20,50,100,200,400],p=[10,5],q=[1,2,3])\n",
    "\n",
    "def plot_compressed(name,no_of_singularvalues=5,p=5,q=1):\n",
    "    image = image_dict[name]\n",
    "    print(name)\n",
    "    \n",
    "    # q=  Power iterations\n",
    "    # p = Oversampling parameter\n",
    "    t1 = time.time()\n",
    "    compressed_image = rSVD_scratch(image, r=no_of_singularvalues,p=p,q=q)\n",
    "    t2 = time.time() - t1\n",
    "    print(\"Time taken to return compressed image using rSVD:\", t2)\n",
    "    fig, axis = plt.subplots(1,2 , figsize=(20, 8))\n",
    "\n",
    "    axis[0].imshow(image)\n",
    "    axis[0].set_title('Original Image')\n",
    "\n",
    "    axis[1].imshow(compressed_image)\n",
    "    axis[1].set_title('Compressed Image')\n",
    "    \n",
    "    return None\n"
   ]
  },
  {
   "cell_type": "markdown",
   "metadata": {},
   "source": [
    "Illustration of power iterations effect on SVD"
   ]
  },
  {
   "cell_type": "code",
   "execution_count": 24,
   "metadata": {},
   "outputs": [
    {
     "data": {
      "image/png": "[encoded data removed]",
      "text/plain": [
       "<Figure size 432x288 with 1 Axes>"
      ]
     },
     "metadata": {
      "needs_background": "light"
     },
     "output_type": "display_data"
    }
   ],
   "source": [
    "## Illustrate power iterations\n",
    "X = np.random.randn(1000,100)\n",
    "U, S, VT = np.linalg.svd(X,full_matrices=0)\n",
    "S = np.arange(1,0,-0.01)\n",
    "X = U @ np.diag(S) @ VT\n",
    "\n",
    "color_list = np.array([[0,0,2/3],  # Define color map\n",
    "                 [0,0,1],\n",
    "                 [0,2/3,1],\n",
    "                 [0,1/3,1],\n",
    "                 [2/3,0,0],\n",
    "                 [2/3,1,1/3],\n",
    "                 [1/3,1,2/3],\n",
    "                 [1,0,0],\n",
    "                 [1,2/3,0],\n",
    "                 [1,1/3,0],\n",
    "                 [1,1,0],\n",
    "                 [0,1,1]])\n",
    "\n",
    "plt.plot(S,'o',color='k',LineWidth=2,label='SVD')\n",
    "\n",
    "Y = X\n",
    "for q in range(1,6):\n",
    "    Y = X.T @ Y\n",
    "    Y = X @ Y\n",
    "    Uq, Sq, VTq = np.linalg.svd(Y,full_matrices=0)\n",
    "    plt.plot(Sq,'o',color=tuple(color_list[2*q+1]),LineWidth=2,label='rSVD, q = '+str(q))\n",
    "\n",
    "plt.legend()\n",
    "plt.ylabel(\" \")\n",
    "plt.xlabel(\"Singular Values\")\n",
    "plt.show()"
   ]
  },
  {
   "cell_type": "markdown",
   "metadata": {},
   "source": [
    "Plotting Processing times for SVD and rSVD from scratch functions"
   ]
  },
  {
   "cell_type": "code",
   "execution_count": 17,
   "metadata": {},
   "outputs": [
    {
     "data": {
      "image/png": "[encoded data removed]",
      "text/plain": [
       "<Figure size 432x288 with 1 Axes>"
      ]
     },
     "metadata": {
      "needs_background": "light"
     },
     "output_type": "display_data"
    }
   ],
   "source": [
    "k= [5,10,20,50,100] # Singular Values\n",
    "# *** processing times may vary on each function call , but for\n",
    "# analysis purpose , these are taken at exact same time in same conditions\n",
    "# and are subjected to the method used to generate SVD not to rSVD or SVD.\n",
    "# But relatuvely whatever may be the method to evaluate SVD it will take\n",
    "# lesser time always if we go for randomised SVD.\n",
    "\n",
    "trSVD = [0.120,0.153,0.287, 0.896,3.805]\n",
    "tSVD = [0.292,0.895,2.565,12.768,45.450]\n",
    "\n",
    "plt.plot(k,tSVD,'-o',color ='k', LineWidth =2 , label ='SVD')\n",
    "plt.plot(k,trSVD,'-o',color = 'r',LineWidth =2,label = 'rSVD')\n",
    "plt.legend()\n",
    "plt.ylabel(\"Time in seconds \")\n",
    "plt.xlabel(\"Singular Values\")\n",
    "plt.show()"
   ]
  },
  {
   "cell_type": "code",
   "execution_count": null,
   "metadata": {},
   "outputs": [],
   "source": []
  }
 ],
 "metadata": {
  "kernelspec": {
   "display_name": "Python 3",
   "language": "python",
   "name": "python3"
  },
  "language_info": {
   "codemirror_mode": {
    "name": "ipython",
    "version": 3
   },
   "file_extension": ".py",
   "mimetype": "text/x-python",
   "name": "python",
   "nbconvert_exporter": "python",
   "pygments_lexer": "ipython3",
   "version": "3.8.3"
  }
 },
 "nbformat": 4,
 "nbformat_minor": 4
}
